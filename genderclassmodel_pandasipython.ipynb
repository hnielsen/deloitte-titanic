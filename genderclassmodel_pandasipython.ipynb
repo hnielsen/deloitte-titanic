{
 "metadata": {
  "name": "",
  "signature": "sha256:dae3f83e84f8b6426ae3a164a2eb9af90a72deb61544a4a387912519cbdbe7a3"
 },
 "nbformat": 3,
 "nbformat_minor": 0,
 "worksheets": [
  {
   "cells": [
    {
     "cell_type": "code",
     "collapsed": false,
     "input": [
      "import pandas as pd\n",
      "import numpy as np\n",
      "import os\n",
      "\n",
      "def AddBinFare(frame, fare_bracket_size=10, number_of_fares=4):\n",
      "  \"\"\"Bin the ticket fare and add a new column BinFare\"\"\"\n",
      "  frame['BinFare'] = ((frame.Fare//fare_bracket_size)\n",
      "                      .clip_upper(number_of_fares-1)\n",
      "                      # Use class as substitute if no fare was given\n",
      "                      .fillna(3-frame.Pclass)\n",
      "                      .astype(np.int))\n"
     ],
     "language": "python",
     "metadata": {},
     "outputs": [],
     "prompt_number": 1
    },
    {
     "cell_type": "code",
     "collapsed": false,
     "input": [
      "fare_ceiling = 40\n",
      "fare_bracket_size = 10\n",
      "number_of_fares = fare_ceiling // fare_bracket_size\n",
      "number_of_classes = 3 #There were 1st, 2nd and 3rd classes on board\n",
      "\n",
      "data = pd.read_csv('data/train.csv',skipinitialspace=1,index_col=[0])\n",
      "AddBinFare(data,\n",
      "           fare_bracket_size=fare_bracket_size,\n",
      "           number_of_fares=number_of_fares)\n"
     ],
     "language": "python",
     "metadata": {},
     "outputs": [],
     "prompt_number": 3
    },
    {
     "cell_type": "code",
     "collapsed": false,
     "input": [
      "index_list=[]\n",
      "survival_list=[]\n",
      "genderNames = ['female','male']\n",
      "for sexIdx in range(2):\n",
      "  for classIdx in range(number_of_classes):\n",
      "    for fareIdx in range(number_of_fares):\n",
      "      index_list += [(sexIdx,classIdx,fareIdx)]\n",
      "      survival_probability = (data.Survived[(data.Sex == genderNames[sexIdx])\n",
      "                                            & (data.Pclass-1==classIdx)\n",
      "                                            & (data.BinFare == fareIdx)]\n",
      "                              .mean())\n",
      "      survival_list += [survival_probability]\n"
     ],
     "language": "python",
     "metadata": {},
     "outputs": [],
     "prompt_number": 4
    },
    {
     "cell_type": "code",
     "collapsed": false,
     "input": [
      "survival_index = pd.MultiIndex.from_tuples(index_list,\n",
      "                                           names = ['Gender','Class','PriceBracket'])\n",
      "survival_table = (pd.Series(survival_list,\n",
      "                            index=survival_index, name='Survival')\n",
      "                  # Replace nans with zeros and turn binary by assume <0.5 don't survive.\n",
      "                  .fillna(0) > 0.5).astype(np.int)\n",
      "\n",
      "print survival_table\n",
      "\n"
     ],
     "language": "python",
     "metadata": {},
     "outputs": [
      {
       "output_type": "stream",
       "stream": "stdout",
       "text": [
        "Gender  Class  PriceBracket\n",
        "0       0      0               0\n",
        "               1               0\n",
        "               2               1\n",
        "               3               1\n",
        "        1      0               0\n",
        "               1               1\n",
        "               2               1\n",
        "               3               1\n",
        "        2      0               1\n",
        "               1               1\n",
        "               2               0\n",
        "               3               0\n",
        "1       0      0               0\n",
        "               1               0\n",
        "               2               0\n",
        "               3               0\n",
        "        1      0               0\n",
        "               1               0\n",
        "               2               0\n",
        "               3               0\n",
        "        2      0               0\n",
        "               1               0\n",
        "               2               0\n",
        "               3               0\n",
        "Name: Survival, dtype: int32\n"
       ]
      }
     ],
     "prompt_number": 12
    },
    {
     "cell_type": "code",
     "collapsed": false,
     "input": [
      "test = pd.read_csv('data/test.csv',index_col=[0])\n",
      "\n",
      "# Calculate the bin fare\n",
      "AddBinFare(test, fare_bracket_size=fare_bracket_size, number_of_fares=number_of_fares)\n",
      "\n",
      "print test[['Fare','Pclass','BinFare']].head(10)\n"
     ],
     "language": "python",
     "metadata": {},
     "outputs": [
      {
       "output_type": "stream",
       "stream": "stdout",
       "text": [
        "                Fare  Pclass  BinFare\n",
        "PassengerId                          \n",
        "892           7.8292       3        0\n",
        "893           7.0000       3        0\n",
        "894           9.6875       2        0\n",
        "895           8.6625       3        0\n",
        "896          12.2875       3        1\n",
        "897           9.2250       3        0\n",
        "898           7.6292       3        0\n",
        "899          29.0000       2        2\n",
        "900           7.2292       3        0\n",
        "901          24.1500       3        2\n"
       ]
      }
     ],
     "prompt_number": 9
    },
    {
     "cell_type": "code",
     "collapsed": false,
     "input": [
      "test['Survived'] = (test[['Sex','Pclass','BinFare']]\n",
      "                    .apply(lambda s: survival_table[(s[0]=='male', s[1]-1, s[2])],\n",
      "                           axis=1)\n",
      ")"
     ],
     "language": "python",
     "metadata": {},
     "outputs": [],
     "prompt_number": 10
    },
    {
     "cell_type": "code",
     "collapsed": false,
     "input": [
      "test[['Survived']].to_csv('genderclassmodel-pandas.csv')"
     ],
     "language": "python",
     "metadata": {},
     "outputs": [],
     "prompt_number": 11
    },
    {
     "cell_type": "code",
     "collapsed": false,
     "input": [],
     "language": "python",
     "metadata": {},
     "outputs": []
    }
   ],
   "metadata": {}
  }
 ]
}