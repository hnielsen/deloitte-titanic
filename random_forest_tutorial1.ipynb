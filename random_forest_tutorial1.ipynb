{
 "metadata": {
  "name": "",
  "signature": "sha256:fd46d35f17255e681e01baf3a7ce1bef095b3b4dd4b4519c1bd2e8663a53c9de"
 },
 "nbformat": 3,
 "nbformat_minor": 0,
 "worksheets": [
  {
   "cells": [
    {
     "cell_type": "code",
     "collapsed": false,
     "input": [
      "import pandas as pd\n",
      "import numpy as np\n",
      "import csv as csv\n",
      "from sklearn.ensemble import RandomForestClassifier\n",
      "\n",
      "# Data cleanup\n",
      "# TRAIN DATA\n",
      "train_df = pd.read_csv('data/train.csv', header=0)        # Load the train file into a dataframe\n",
      "\n",
      "# I need to convert all strings to integer classifiers.\n",
      "# I need to fill in the missing values of the data and make it complete.\n",
      "\n",
      "# female = 0, Male = 1\n",
      "train_df['Gender'] = train_df['Sex'].map( {'female': 0, 'male': 1} ).astype(int)\n",
      "\n",
      "# Embarked from 'C', 'Q', 'S'\n",
      "# Note this is not ideal: in translating categories to numbers, Port \"2\" is not 2 times greater than Port \"1\", etc.\n",
      "\n",
      "# All missing Embarked -> just make them embark from most common place\n",
      "if len(train_df.Embarked[ train_df.Embarked.isnull() ]) > 0:\n",
      "\ttrain_df.Embarked[ train_df.Embarked.isnull() ] = train_df.Embarked.dropna().mode().values\n",
      "\n",
      "Ports = list(enumerate(np.unique(train_df['Embarked'])))\n",
      "Ports_dict = { name : i for i, name in Ports }\n",
      "train_df.Embarked = train_df.Embarked.map( lambda x: Ports_dict[x]).astype(int)\n",
      "\n",
      "# All the ages with no data -> make the median of all Ages\n",
      "median_age = train_df['Age'].dropna().median()\n",
      "if len(train_df.Age[ train_df.Age.isnull() ]) > 0:\n",
      "\ttrain_df.loc[ (train_df.Age.isnull()), 'Age'] = median_age\n",
      "\n",
      "# Remove the Name column, Cabin, Ticket, and Sex (since I copied and filled it to Gender)\n",
      "train_df = train_df.drop(['Name', 'Sex', 'Ticket', 'Cabin', 'PassengerId'], axis=1)\n"
     ],
     "language": "python",
     "metadata": {},
     "outputs": [],
     "prompt_number": 2
    },
    {
     "cell_type": "code",
     "collapsed": false,
     "input": [
      "%matplotlib inline\n",
      "import pylab as P"
     ],
     "language": "python",
     "metadata": {},
     "outputs": [],
     "prompt_number": 3
    },
    {
     "cell_type": "code",
     "collapsed": false,
     "input": [
      "train_df.Embarked.hist()\n",
      "P.show()\n",
      "train_df."
     ],
     "language": "python",
     "metadata": {},
     "outputs": [
      {
       "metadata": {},
       "output_type": "display_data",
       "png": "[encoded data removed]",
       "text": [
        "<matplotlib.figure.Figure at 0x15db4a90>"
       ]
      }
     ],
     "prompt_number": 11
    }
   ],
   "metadata": {}
  }
 ]
}